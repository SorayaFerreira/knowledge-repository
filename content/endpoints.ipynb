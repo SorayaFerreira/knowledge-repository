{
 "cells": [
  {
   "cell_type": "markdown",
   "metadata": {},
   "source": [
    "# Endpoints em TypeScript\n",
    "\n",
    "Funções assíncronas: estudo e aplicação das estruturas async e await.\n",
    "\n",
    "https://developer.mozilla.org/en-US/docs/Web/JavaScript/Reference/Global_Objects/Promise#description\n",
    "\n",
    "O código a seguir é o arquivo completo do endpoint.\n"
   ]
  },
  {
   "cell_type": "code",
   "execution_count": null,
   "metadata": {},
   "outputs": [],
   "source": [
    "import type { APIRoute } from 'astro';\n",
    "import { encodeBase32LowerCaseNoPadding } from \"@/libs/authn/util\";\n",
    "import { clientRepository, authorizationRequestRepository } from '@/libs';\n",
    "import { sessionProvider } from '@/libs/authn';\n",
    "\n",
    "export const GET: APIRoute = async ({ cookies, url, redirect }) => {\n",
    "  const sessionToken = cookies.get('session')?.value;\n",
    "\n",
    "  if (!sessionToken) {\n",
    "    return redirect(`/login?redirect_uri=${encodeURIComponent(url.toString())}`);\n",
    "  }\n",
    "\n",
    "  const { session } = await sessionProvider.validateSessionToken(sessionToken);\n",
    "\n",
    "  if (!session) {\n",
    "    return redirect(`/login?redirect_uri=${encodeURIComponent(url.toString())}`);\n",
    "  }\n",
    "\n",
    "  const { user_id } = session\n",
    "\n",
    "  const requestData = Object.fromEntries(url.searchParams.entries())\n",
    "\n",
    "  const { response_type, client_id } = requestData\n",
    "\n",
    "  const client = clientRepository.get({\n",
    "    id: client_id\n",
    "  })\n",
    "\n",
    "  if (!client) {\n",
    "    return new Response(null, { status: 400 })\n",
    "  }\n",
    "\n",
    "  const { callback_endpoint } = client;\n",
    "\n",
    "  switch (response_type) {\n",
    "    case \"code\": {\n",
    "      const { code_challenge, code_challenge_method } = requestData\n",
    "\n",
    "      if (code_challenge_method.toLowerCase() !== \"s256\") {\n",
    "        return new Response(null, { status: 400 })\n",
    "      }\n",
    "\n",
    "      const code = generateAuthorizationCode()\n",
    "\n",
    "      authorizationRequestRepository.create({\n",
    "        code,\n",
    "        client_id,\n",
    "        project_id: client.project_id,\n",
    "        code_challenge,\n",
    "        user_id\n",
    "      });\n",
    "\n",
    "      return redirect(`${callback_endpoint}?code=${code}`);\n",
    "    }\n",
    "    default: {\n",
    "      return new Response(null, { status: 400 })\n",
    "    }\n",
    "  }\n",
    "}\n",
    "\n",
    "function generateAuthorizationCode() {\n",
    "  const bytes = new Uint8Array(32);\n",
    "  crypto.getRandomValues(bytes);\n",
    "\n",
    "  return encodeBase32LowerCaseNoPadding(bytes)\n",
    "}"
   ]
  },
  {
   "cell_type": "markdown",
   "metadata": {},
   "source": [
    "O endpoint acima faz parte de uma etapa do provider de um serviço de autenticação oferecido pelo MVP do Bufunfa, o \"logar com o Bufunfa\". Ele:\n",
    "- Recebe a solicitação de autorização do CentoBank.\n",
    "- Se o usuário não estiver logado, ele redireciona para a tela de login, na qual deve ser logado, e redirecionado de volta para o fluxo de autorização (vejam o comportamento do \"Login com Google\" para detalhes)\n",
    "- Gera um código de autenticação (code randomico).\n",
    "- Armazena no banco de dados, na tabela oauth_authorization_request, o code, client_id, code challenge e o user_id.\n",
    "- Redireciona o usuário para o callback_endpoint criado para o Cento Bank, passando o code gerado.\n",
    "\n",
    "Nesse sentido, a missão desse notebook é destrinchar todo esse código, objetivando boa compreensão de rotas feitas com TypeScript.\n",
    "\n",
    "Os blocos de código que seguem abaixo são explicados linha a linha."
   ]
  },
  {
   "cell_type": "markdown",
   "metadata": {},
   "source": [
    "```typescript\n",
    "import type { APIRoute } from 'astro'; \n",
    "import { encodeBase32LowerCaseNoPadding } from \"@/libs/authn/util\";\n",
    "import { clientRepository, authorizationRequestRepository } from '@/libs';\n",
    "import { sessionProvider } from '@/libs/authn';\n",
    "```"
   ]
  },
  {
   "cell_type": "markdown",
   "metadata": {},
   "source": [
    "```typescript\n",
    "export const GET: APIRoute = async ({ cookies, url, redirect }) => {\n",
    "  const sessionToken = cookies.get('session')?.value;\n",
    "```"
   ]
  },
  {
   "cell_type": "markdown",
   "metadata": {},
   "source": [
    "```typescript\n",
    "  if (!sessionToken) {\n",
    "    return redirect(`/login?redirect_uri=${encodeURIComponent(url.toString())}`);\n",
    "  }\n",
    "\n",
    "  const { session } = await sessionProvider.validateSessionToken(sessionToken);\n",
    "```"
   ]
  },
  {
   "cell_type": "markdown",
   "metadata": {},
   "source": [
    "```typescript\n",
    "  if (!session) {\n",
    "    return redirect(`/login?redirect_uri=${encodeURIComponent(url.toString())}`);\n",
    "  }\n",
    "\n",
    "  const { user_id } = session\n",
    "\n",
    "  const requestData = Object.fromEntries(url.searchParams.entries())\n",
    "\n",
    "  const { response_type, client_id } = requestData\n",
    "```"
   ]
  },
  {
   "cell_type": "markdown",
   "metadata": {},
   "source": [
    "```typescript\n",
    "  const client = clientRepository.get({\n",
    "    id: client_id\n",
    "  })\n",
    "\n",
    "  if (!client) {\n",
    "    return new Response(null, { status: 400 });\n",
    "  }\n",
    "\n",
    "  const { callback_endpoint } = client;\n",
    "```"
   ]
  },
  {
   "cell_type": "markdown",
   "metadata": {},
   "source": [
    "```typescript\n",
    "  switch (response_type) {\n",
    "    case \"code\": {\n",
    "      const { code_challenge, code_challenge_method } = requestData\n",
    "\n",
    "      if (code_challenge_method.toLowerCase() !== \"s256\") {\n",
    "        return new Response(null, { status: 400 })\n",
    "      }\n",
    "\n",
    "      const code = generateAuthorizationCode()\n",
    "\n",
    "      authorizationRequestRepository.create({\n",
    "        code,\n",
    "        client_id,\n",
    "        project_id: client.project_id,\n",
    "        code_challenge,\n",
    "        user_id\n",
    "      });\n",
    "\n",
    "      return redirect(`${callback_endpoint}?code=${code}`);\n",
    "    }\n",
    "    default: {\n",
    "      return new Response(null, { status: 400 })\n",
    "    }\n",
    "  }\n",
    "\n",
    "```"
   ]
  },
  {
   "cell_type": "markdown",
   "metadata": {},
   "source": [
    "```typescript\n",
    "function generateAuthorizationCode() {\n",
    "  const bytes = new Uint8Array(32);\n",
    "  crypto.getRandomValues(bytes);\n",
    "\n",
    "  return encodeBase32LowerCaseNoPadding(bytes)\n",
    "}\n",
    "```"
   ]
  },
  {
   "cell_type": "markdown",
   "metadata": {},
   "source": [
    "### precisa adaptar\n",
    "\n",
    "```javascript\n",
    "const code_verifier = new TextEncoder().encode(atob(code_verifier_cookies));\n",
    "```\n",
    "\n",
    "- `code_verifier_cookies` é uma variável que contém uma string codificada em Base64. Este nome sugere que a string foi obtida a partir de cookies armazenados no navegador.\n",
    "\n",
    "- `atob(code_verifier_cookies)`:\n",
    "   - Função `atob`: `atob` é uma função JavaScript que decodifica uma string Base64 para texto ASCII. `atob` significa \"ASCII to binary\".\n",
    "   - Processo: A string codificada em Base64 (que está armazenada em `code_verifier_cookies`) é decodificada para obter o texto original. \n",
    "   - Resultado: O resultado de `atob(code_verifier_cookies)` é uma string em texto plano.\n",
    "\n",
    "- `new TextEncoder().encode(...)`:\n",
    "   - `TextEncoder`: `TextEncoder` é uma interface da API de Codificação de Texto que permite converter uma string de texto em um buffer de dados binários codificado em UTF-8.\n",
    "   - Método `encode`: O método `encode` da `TextEncoder` converte uma string de texto para um `Uint8Array` de bytes.\n",
    "   - Processo: A string de texto obtida da decodificação Base64 é convertida em uma sequência de bytes codificada em UTF-8.\n",
    "\n",
    "- Atribuição à Constante `code_verifier`:\n",
    "   - O resultado final da codificação UTF-8 (um `Uint8Array` de bytes) é armazenado na constante `code_verifier`."
   ]
  }
 ],
 "metadata": {
  "kernelspec": {
   "display_name": "Deno",
   "language": "typescript",
   "name": "deno"
  },
  "language_info": {
   "name": "typescript"
  }
 },
 "nbformat": 4,
 "nbformat_minor": 2
}
