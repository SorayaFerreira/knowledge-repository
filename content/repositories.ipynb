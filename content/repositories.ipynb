{
 "cells": [
  {
   "cell_type": "markdown",
   "metadata": {},
   "source": [
    "# Implementação de um Repository em TypeScript"
   ]
  },
  {
   "cell_type": "code",
   "execution_count": null,
   "metadata": {},
   "outputs": [],
   "source": [
    "import type { Database as DatabaseType } from 'better-sqlite3'\n",
    "import type { OAuthAuthorizationRequest, Client, OAuthToken } from './core'\n",
    "\n",
    "export type AuthorizationRequestRepository = ReturnType<typeof SqliteAuthorizationRequestRepository>\n",
    "\n",
    "export const SqliteAuthorizationRequestRepository = ({ db }: { db: DatabaseType }) => {\n",
    "    const createStmt = db.prepare<OAuthAuthorizationRequest, OAuthAuthorizationRequest>(\"INSERT INTO oauth_authorization_request (code, client_id, project_id, code_challenge, user_id) VALUES (:code, :client_id, :project_id, :code_challenge, :user_id) RETURNING *\")\n",
    "\n",
    "    const getStmt = db.prepare<Pick<OAuthAuthorizationRequest, 'code'>, OAuthAuthorizationRequest>(\"SELECT * FROM oauth_authorization_request WHERE code = :code\")\n",
    "\n",
    "    return {\n",
    "        // biome-ignore lint/style/noNonNullAssertion: <explanation>\n",
    "        create: (data: OAuthAuthorizationRequest) => createStmt.get(data)!,\n",
    "\n",
    "        get: (query: {\n",
    "            code: OAuthAuthorizationRequest['code'];\n",
    "        }) => {\n",
    "            return getStmt.get({ code: query.code })\n",
    "        }      \n",
    "    };\n",
    "}\n",
    "\n",
    "export type ClientRepository = ReturnType<typeof SqliteClientRepository>\n",
    "\n",
    "export const SqliteClientRepository = ({ db }: { db: DatabaseType }) => {\n",
    "    const createStmt = db.prepare<Client, Client>(\"INSERT INTO client (id, project_id, secret, name, callback_endpoint) VALUES (:id, :project_id, :secret, :name, :callback_endpoint) RETURNING *\");\n",
    "    const getStmt = db.prepare<{\n",
    "        id: Client['id'],\n",
    "    }, Client>(\"SELECT * FROM client WHERE id = :id\");\n",
    "\n",
    "    return {\n",
    "        create: (data: Omit<Client, 'id'>) => {\n",
    "            const id = crypto.randomUUID();\n",
    "            const output = createStmt.get({\n",
    "                ...data,\n",
    "                id\n",
    "            });\n",
    "            return output;\n",
    "        },\n",
    "        get: (query: Pick<Client, 'id'>) => {\n",
    "            return getStmt.get({\n",
    "                id: query.id,\n",
    "            });\n",
    "        }\n",
    "    };\n",
    "}\n",
    "\n",
    "export type OAuthTokenRepository = ReturnType<typeof SqliteOAuthTokenRepository>\n",
    "\n",
    "export const SqliteOAuthTokenRepository = ({ db }: { db: DatabaseType }) => {\n",
    "    const createStmt = db.prepare<OAuthToken, OAuthToken>(\"INSERT INTO oauth_token (access_token, client_id, project_id, user_id, expires_in) VALUES (:access_token, :client_id, :project_id, :user_id, :expires_in) RETURNING *\");\n",
    "\n",
    "    return {\n",
    "        create: (data: OAuthToken) => {\n",
    "            const output = createStmt.get({ ...data });\n",
    "            return output;\n",
    "        },\n",
    "    };\n",
    "}"
   ]
  }
 ],
 "metadata": {
  "kernelspec": {
   "display_name": "Deno",
   "language": "typescript",
   "name": "deno"
  },
  "language_info": {
   "name": "typescript"
  }
 },
 "nbformat": 4,
 "nbformat_minor": 2
}
