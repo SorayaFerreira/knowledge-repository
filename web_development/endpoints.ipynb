{
 "cells": [
  {
   "cell_type": "markdown",
   "metadata": {},
   "source": [
    "# Endpoints em TypeScript\n"
   ]
  },
  {
   "cell_type": "code",
   "execution_count": null,
   "metadata": {},
   "outputs": [],
   "source": [
    "import type { APIRoute } from 'astro';\n",
    "import { encodeBase32LowerCaseNoPadding } from \"@/libs/authn/util\";\n",
    "import { clientRepository, authorizationRequestRepository } from '@/libs';\n",
    "import { sessionProvider } from '@/libs/authn';\n",
    "\n",
    "export const GET: APIRoute = async ({ cookies, url, redirect }) => {\n",
    "  const sessionToken = cookies.get('session')?.value;\n",
    "\n",
    "  if (!sessionToken) {\n",
    "    return redirect(`/login?redirect_uri=${encodeURIComponent(url.toString())}`);\n",
    "  }\n",
    "\n",
    "  const { session } = await sessionProvider.validateSessionToken(sessionToken)\n",
    "\n",
    "  if (!session) {\n",
    "    return redirect(`/login?redirect_uri=${encodeURIComponent(url.toString())}`);\n",
    "  }\n",
    "\n",
    "  const { user_id } = session\n",
    "\n",
    "  const requestData = Object.fromEntries(url.searchParams.entries())\n",
    "\n",
    "  const { response_type, client_id } = requestData\n",
    "\n",
    "  const client = clientRepository.get({\n",
    "    id: client_id\n",
    "  })\n",
    "\n",
    "  if (!client) {\n",
    "    return new Response(null, { status: 400 })\n",
    "  }\n",
    "\n",
    "  const { callback_endpoint } = client\n",
    "\n",
    "  switch (response_type) {\n",
    "    case \"code\": {\n",
    "      const { code_challenge, code_challenge_method } = requestData\n",
    "\n",
    "      if (code_challenge_method.toLowerCase() !== \"s256\") {\n",
    "        return new Response(null, { status: 400 })\n",
    "      }\n",
    "\n",
    "      const code = generateAuthorizationCode()\n",
    "\n",
    "      authorizationRequestRepository.create({\n",
    "        code,\n",
    "        client_id,\n",
    "        project_id: client.project_id,\n",
    "        code_challenge,\n",
    "        user_id\n",
    "      });\n",
    "\n",
    "      return redirect(`${callback_endpoint}?code=${code}`);\n",
    "    }\n",
    "    default: {\n",
    "      return new Response(null, { status: 400 })\n",
    "    }\n",
    "  }\n",
    "}\n",
    "\n",
    "function generateAuthorizationCode() {\n",
    "  const bytes = new Uint8Array(32);\n",
    "  crypto.getRandomValues(bytes);\n",
    "\n",
    "  return encodeBase32LowerCaseNoPadding(bytes)\n",
    "}\n"
   ]
  }
 ],
 "metadata": {
  "kernelspec": {
   "display_name": "Deno",
   "language": "typescript",
   "name": "deno"
  },
  "language_info": {
   "name": "typescript"
  }
 },
 "nbformat": 4,
 "nbformat_minor": 2
}
