{
 "cells": [
  {
   "cell_type": "code",
   "execution_count": null,
   "metadata": {},
   "outputs": [
    {
     "name": "stdout",
     "output_type": "stream",
     "text": [
      "Hello Soraya\n"
     ]
    }
   ],
   "source": [
    "type Person = {\n",
    "    name: string;\n",
    "    age: number;\n",
    "};\n",
    "\n",
    "function greet(person: Person) {\n",
    "    //return \"Hello \" + person.name;\n",
    "    return `Hello ${person.name}`;\n",
    "}\n",
    "\n",
    "const soraya: Person = {\n",
    "    name: \"Soraya\",\n",
    "    age: 19\n",
    "}\n",
    "\n",
    "console.log(greet(soraya));"
   ]
  },
  {
   "cell_type": "markdown",
   "metadata": {},
   "source": [
    "text block"
   ]
  }
 ],
 "metadata": {
  "kernelspec": {
   "display_name": "Deno",
   "language": "typescript",
   "name": "deno"
  },
  "language_info": {
   "codemirror_mode": "typescript",
   "file_extension": ".ts",
   "mimetype": "text/x.typescript",
   "name": "typescript",
   "nbconvert_exporter": "script",
   "pygments_lexer": "typescript",
   "version": "5.6.2"
  }
 },
 "nbformat": 4,
 "nbformat_minor": 2
}
