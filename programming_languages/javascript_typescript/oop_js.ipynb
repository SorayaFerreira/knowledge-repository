{
 "cells": [
  {
   "cell_type": "markdown",
   "metadata": {},
   "source": [
    "## Orientação a Objetos com JavaScript 🛸"
   ]
  },
  {
   "cell_type": "markdown",
   "metadata": {},
   "source": [
    "**Objetos** em JavaScript são coleções de propriedades e métodos relacionados por características em comum. Dizem que um objeto JS é também uma \"super-variável\".\n",
    "\n",
    "Há duas formas de declarar os tipos dos objetos em TypeScript: `interface` e `type`. É possível misturar o uso, porém a documentação recomenda o uso de `interface`s, porque as mensagens de erro são melhores. `interface`s são abertas e tipos são fechados, o que signigica que interfaces podem ser extendidas em uma segunda declaração.\n",
    "\n",
    "É possível acessar atributos e valores dos atributos dos objetos por `chaves string`.  Um comando `for...in` permite que uma variável do tipo string retorne o nome do atributo, e a chave string pode retornar o valor desse atributo."
   ]
  },
  {
   "cell_type": "code",
   "execution_count": null,
   "metadata": {},
   "outputs": [
    {
     "name": "stdout",
     "output_type": "stream",
     "text": [
      "Dados pessoa 1:\n",
      "\n",
      "firstName: Soraya\n",
      "lastName: Ferreira\n",
      "age: 19\n"
     ]
    }
   ],
   "source": [
    "interface Person {\n",
    "    [key: string]: any;\n",
    "    firstName: string;\n",
    "    lastName: string;\n",
    "    age: number;\n",
    "    sayHello(): void;\n",
    "};\n",
    "\n",
    "const person1: Person = {\n",
    "    firstName: \"Soraya\",\n",
    "    lastName: \"Ferreira\",\n",
    "    age: 19,\n",
    "    sayHello: function(): void {\n",
    "        console.log(`Hello, I am Soraya`)\n",
    "    },\n",
    "};\n",
    "\n",
    "const person2: Person = {\n",
    "    firstName: \"Samuel\",\n",
    "    lastName: \"Ferreira\",\n",
    "    age: 10,\n",
    "    sayHello: function(): void {\n",
    "        console.log(`Hello, I am Samuel`)\n",
    "    },\n",
    "}\n",
    "\n",
    "console.log(\"Dados pessoa 1:\\n\")\n",
    "for (let value in person1) {\n",
    "    console.log(`${value}: ${person1[value]}`);\n",
    "} \n",
    "\n",
    "console.log(\"\\nDados pessoa 2:\\n\")\n",
    "for (let value in person2) {\n",
    "    console.log(`${value}: ${person2[value]}`);\n",
    "} \n"
   ]
  },
  {
   "cell_type": "markdown",
   "metadata": {},
   "source": [
    "### Construtores"
   ]
  },
  {
   "cell_type": "code",
   "execution_count": 2,
   "metadata": {},
   "outputs": [],
   "source": [
    "interface Car {\n",
    "    make: string;\n",
    "    model: string;\n",
    "    year: number;\n",
    "    color: string;\n",
    "}\n",
    "\n",
    "function CarConstructor(make:string, model: string, year: number, color: string): Car {\n",
    "    return {\n",
    "        make,\n",
    "        model,\n",
    "        year,\n",
    "        color,\n",
    "    };\n",
    "}\n",
    "\n",
    "const car1 = CarConstructor(\"Chery\", \"QQ\", 2024, \"black\");"
   ]
  },
  {
   "cell_type": "markdown",
   "metadata": {},
   "source": [
    "### Classes"
   ]
  },
  {
   "cell_type": "code",
   "execution_count": null,
   "metadata": {},
   "outputs": [],
   "source": [
    "class Account {\n",
    "\n",
    "    username: string;\n",
    "    balance: number;\n",
    "    \n",
    "    constructor(username: string, balance: number) {\n",
    "        this.username = username;\n",
    "        this.balance = balance;\n",
    "    }\n",
    "}"
   ]
  },
  {
   "cell_type": "markdown",
   "metadata": {},
   "source": [
    "### Método `.forEach()`"
   ]
  },
  {
   "cell_type": "code",
   "execution_count": null,
   "metadata": {},
   "outputs": [
    {
     "name": "stdout",
     "output_type": "stream",
     "text": [
      "1\n",
      "2\n",
      "3\n",
      "4\n",
      "5\n",
      "6\n"
     ]
    }
   ],
   "source": [
    "const numbers: number[] = [1, 2, 3, 4, 5, 6];\n",
    "\n",
    "numbers.forEach(display);\n",
    "// lê-se \"para cada elemento do array numbers[] chame a função mostrar(elemento: number)\"\n",
    "\n",
    "function display(element: number): void {\n",
    "    console.log(element);\n",
    "}"
   ]
  }
 ],
 "metadata": {
  "kernelspec": {
   "display_name": "Deno",
   "language": "typescript",
   "name": "deno"
  },
  "language_info": {
   "codemirror_mode": "typescript",
   "file_extension": ".ts",
   "mimetype": "text/x.typescript",
   "name": "typescript",
   "nbconvert_exporter": "script",
   "pygments_lexer": "typescript",
   "version": "5.6.2"
  }
 },
 "nbformat": 4,
 "nbformat_minor": 2
}
